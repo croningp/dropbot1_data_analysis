{
 "cells": [
  {
   "cell_type": "markdown",
   "metadata": {},
   "source": [
    "# This notebook shows how to explore the dataset\n",
    "\n",
    "### First load useful tools and path"
   ]
  },
  {
   "cell_type": "code",
   "execution_count": null,
   "metadata": {
    "collapsed": false
   },
   "outputs": [],
   "source": [
    "import os\n",
    "import numpy as np\n",
    "\n",
    "# this get our current location in the file system\n",
    "import inspect\n",
    "HERE_PATH = os.path.dirname(os.path.abspath(inspect.getfile(inspect.currentframe())))\n",
    "DATA_PATH = os.path.join(HERE_PATH, '..', 'data')\n",
    "\n",
    "# adding parent directory to path, so we can access the utils easily\n",
    "import sys\n",
    "root_path = os.path.join(HERE_PATH, '..')\n",
    "sys.path.append(root_path)"
   ]
  },
  {
   "cell_type": "markdown",
   "metadata": {},
   "source": [
    "### We explore the octanoic dataset"
   ]
  },
  {
   "cell_type": "code",
   "execution_count": null,
   "metadata": {
    "collapsed": false
   },
   "outputs": [],
   "source": [
    "# Load and print some information about the dataset\n",
    "from datasets.tools import load_dataset\n",
    "X, Y, info, path = load_dataset('octanoic')\n",
    "print 'The dataset has {} entries'.format(info['count'])\n",
    "print 'Input dimensions represent {}'.format(info['x_keys'])\n",
    "print 'Output dimensions represent {}'.format(info['y_keys'])"
   ]
  },
  {
   "cell_type": "markdown",
   "metadata": {
    "collapsed": false
   },
   "source": [
    "### Preparing functions to plot animation in the notebook"
   ]
  },
  {
   "cell_type": "code",
   "execution_count": null,
   "metadata": {
    "collapsed": true
   },
   "outputs": [],
   "source": [
    "from IPython.display import HTML\n",
    "from tempfile import NamedTemporaryFile\n",
    "\n",
    "VIDEO_TAG = \"\"\"<video controls>\n",
    " <source src=\"data:video/x-m4v;base64,{0}\" type=\"video/mp4\">\n",
    " Your browser does not support the video tag.\n",
    "</video>\"\"\"\n",
    "\n",
    "def anim_to_html(anim):\n",
    "    if not hasattr(anim, '_encoded_video'):\n",
    "        with NamedTemporaryFile(suffix='.mp4') as f:\n",
    "            anim.save(f.name, fps=20, extra_args=['-vcodec', 'libx264'])\n",
    "            video = open(f.name, \"rb\").read()\n",
    "        anim._encoded_video = video.encode(\"base64\")\n",
    "    \n",
    "    return VIDEO_TAG.format(anim._encoded_video)\n",
    "\n",
    "\n",
    "def display_animation(anim):\n",
    "    plt.close(anim._fig)\n",
    "    return HTML(anim_to_html(anim))"
   ]
  },
  {
   "cell_type": "markdown",
   "metadata": {
    "collapsed": true
   },
   "source": [
    "### Displaying each experiment in a 3D space, each axis representing an output dimension"
   ]
  },
  {
   "cell_type": "code",
   "execution_count": null,
   "metadata": {
    "collapsed": false
   },
   "outputs": [],
   "source": [
    "%matplotlib inline\n",
    "import matplotlib.pyplot as plt\n",
    "from mpl_toolkits.mplot3d import Axes3D\n",
    "\n",
    "Y_scaled = Y / np.max(Y, axis=0)  # we scale the data to use them directly as colors\n",
    "\n",
    "fig = plt.figure()\n",
    "ax = fig.add_subplot(111, projection='3d')\n",
    "ax.scatter(Y[:, 0], Y[:,1], Y[:, 2], c=Y_scaled)\n",
    "ax.set_xlabel(info['y_keys'][0])\n",
    "ax.set_ylabel(info['y_keys'][1])\n",
    "ax.set_zlabel(info['y_keys'][2])\n",
    "ax.view_init(elev=20., azim=45)"
   ]
  },
  {
   "cell_type": "markdown",
   "metadata": {},
   "source": [
    "Each point in this graph is the result of one experiment in the dataset. \n",
    "\n",
    "We can make an animation out of it to observe better the distribution. Next cell does just that, it takes quite some time to execute"
   ]
  },
  {
   "cell_type": "code",
   "execution_count": null,
   "metadata": {
    "collapsed": false
   },
   "outputs": [],
   "source": [
    "from matplotlib import animation\n",
    "\n",
    "fps = 20\n",
    "n_frames = 100\n",
    "\n",
    "# First set up the figure, the axis, and the plot element we want to animate\n",
    "fig = plt.figure()\n",
    "ax = fig.add_subplot(111, projection='3d')\n",
    "\n",
    "# animation function.  This is called sequentially\n",
    "def animate(i):\n",
    "    ax.set_xlabel(info['y_keys'][0])\n",
    "    ax.set_ylabel(info['y_keys'][1])\n",
    "    ax.set_zlabel(info['y_keys'][2])\n",
    "    ax.view_init(elev=20., azim=i * 360/n_frames)\n",
    "    line = ax.scatter(Y[:, 0], Y[:,1], Y[:, 2], c=Y_scaled)\n",
    "    return line,\n",
    "\n",
    "# call the animator.  blit=True means only re-draw the parts that have changed.\n",
    "anim = animation.FuncAnimation(fig, animate,\n",
    "                               frames=n_frames, blit=True)\n",
    "\n",
    "# call our new function to display the animation\n",
    "display_animation(anim)"
   ]
  },
  {
   "cell_type": "markdown",
   "metadata": {},
   "source": [
    "**Uncomment the cell below to save the animation in a file**"
   ]
  },
  {
   "cell_type": "code",
   "execution_count": null,
   "metadata": {
    "collapsed": false
   },
   "outputs": [],
   "source": [
    "# writer = animation.writers['ffmpeg']\n",
    "# writer = writer(fps=fps, bitrate=1800)\n",
    "# video_file = os.path.join(HERE_PATH, 'video.mp4')\n",
    "# anim.save(video_file, writer=writer)"
   ]
  },
  {
   "cell_type": "markdown",
   "metadata": {},
   "source": [
    "### You can look for the best experiment in each dimension"
   ]
  },
  {
   "cell_type": "code",
   "execution_count": null,
   "metadata": {
    "collapsed": true
   },
   "outputs": [],
   "source": [
    "# function to open a video using vlc (should work on all Linux platform, providing vlc is installed)\n",
    "def open_video(video_id):\n",
    "    video_path = os.path.join(DATA_PATH, path[video_id], 'video.avi')\n",
    "    print \"Reading {}\".format(video_path)\n",
    "    print \"X: {}\".format(X[video_id, :])\n",
    "    print \"Y: {}\".format(Y[video_id, :])\n",
    "    os.system('vlc {}'.format(video_path))"
   ]
  },
  {
   "cell_type": "code",
   "execution_count": null,
   "metadata": {
    "collapsed": false
   },
   "outputs": [],
   "source": [
    "# best division experiment\n",
    "division_index = info['y_keys'].index('division')\n",
    "division_id = np.argmax(Y[:, division_index])\n",
    "open_video(division_id)"
   ]
  },
  {
   "cell_type": "code",
   "execution_count": null,
   "metadata": {
    "collapsed": false
   },
   "outputs": [],
   "source": [
    "# best directionality experiment\n",
    "directionality_index = info['y_keys'].index('directionality')\n",
    "directionality_id = np.argmax(Y[:,1])\n",
    "open_video(directionality_id)"
   ]
  },
  {
   "cell_type": "code",
   "execution_count": null,
   "metadata": {
    "collapsed": false
   },
   "outputs": [],
   "source": [
    "# best movement experiment\n",
    "movement_index = info['y_keys'].index('movement')\n",
    "movement_id = np.argmax(Y[:,2])\n",
    "open_video(movement_id)"
   ]
  }
 ],
 "metadata": {
  "kernelspec": {
   "display_name": "Python 2",
   "language": "python",
   "name": "python2"
  },
  "language_info": {
   "codemirror_mode": {
    "name": "ipython",
    "version": 2
   },
   "file_extension": ".py",
   "mimetype": "text/x-python",
   "name": "python",
   "nbconvert_exporter": "python",
   "pygments_lexer": "ipython2",
   "version": "2.7.6"
  }
 },
 "nbformat": 4,
 "nbformat_minor": 0
}
